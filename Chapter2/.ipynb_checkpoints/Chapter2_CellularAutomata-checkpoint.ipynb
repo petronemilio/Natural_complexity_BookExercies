{
 "cells": [
  {
   "cell_type": "markdown",
   "metadata": {},
   "source": [
    "### Cellular Automata\n",
    "This notebook has examples of different cellular automata rules and solutions to the problems presented at the end of the chapter"
   ]
  },
  {
   "cell_type": "markdown",
   "metadata": {},
   "source": [
    "First we need numpy and matplotlib libraries."
   ]
  },
  {
   "cell_type": "code",
   "execution_count": 96,
   "metadata": {},
   "outputs": [],
   "source": [
    "import numpy as np\n",
    "import matplotlib.pyplot as plt"
   ]
  },
  {
   "cell_type": "code",
   "execution_count": 97,
   "metadata": {},
   "outputs": [],
   "source": [
    "##Define some variables to model the cellular automata:\n",
    "N = 129 #number of cells\n",
    "n_iter = 64 #number of iterations\n",
    "#Create a numpy array\n",
    "image = np.zeros([n_iter, N], dtype ='int')\n",
    "#Stablish the initial cell as 1\n",
    "image[0,N//2]=1 #Central cell set to 1\n",
    "\n",
    "for iterate in range(1,n_iter):\n",
    "    for j in range(1,N-1):\n",
    "        if image[iterate-1,j+1] + image[iterate-1,j-1] ==1:\n",
    "            image[iterate, j] = 1\n",
    "    #end of loop\n",
    "    image[iterate,0] = image[iterate, N-2] \n",
    "    image[iterate,N-1] = image[iterate, 1] \n"
   ]
  },
  {
   "cell_type": "code",
   "execution_count": 98,
   "metadata": {},
   "outputs": [
    {
     "data": {
      "text/plain": [
       "<matplotlib.image.AxesImage at 0x7f1ebb832358>"
      ]
     },
     "execution_count": 98,
     "metadata": {},
     "output_type": "execute_result"
    },
    {
     "data": {
      "image/png": "[encoded data removed]",
      "text/plain": [
       "<Figure size 432x288 with 1 Axes>"
      ]
     },
     "metadata": {
      "needs_background": "light"
     },
     "output_type": "display_data"
    }
   ],
   "source": [
    "plt.imshow(image, interpolation='nearest')"
   ]
  },
  {
   "cell_type": "markdown",
   "metadata": {},
   "source": [
    "The previuos rule produced the Sierpinski Triangle. As the code suggest, in order to produce the pattern cell j becomes black if only one of j+1 or j-1 are black, otherwise it stays or becomes white. \n",
    "Now we are going to continue with the next rule of the book\n",
    "\n",
    "### First rule of the book: \n",
    "Cell j becomes (or stays) black if one or more of the neighbor triad [ j − 1, j, j + 1] is black; otherwise it becomes (or stays) white."
   ]
  },
  {
   "cell_type": "code",
   "execution_count": 99,
   "metadata": {},
   "outputs": [],
   "source": [
    "##Define some variables to model the cellular automata:\n",
    "N = 129 #number of cells\n",
    "n_iter = 64 #number of iterations\n",
    "#Create a numpy array\n",
    "image = np.zeros([n_iter, N], dtype ='int')\n",
    "#Stablish the initial cell as 1\n",
    "image[0,N//2]=1 #Central cell set to 1\n",
    "\n",
    "for iterate in range(1,n_iter):\n",
    "    for j in range(1,N-1):\n",
    "        if image[iterate-1,j+1] == 1 or image[iterate-1,j-1] ==1 or image[iterate-1,j] ==1:\n",
    "            image[iterate, j] = 1\n",
    "    #end of loop\n",
    "    image[iterate,0] = image[iterate, N-2] \n",
    "    image[iterate,N-1] = image[iterate, 1] \n"
   ]
  },
  {
   "cell_type": "code",
   "execution_count": 100,
   "metadata": {},
   "outputs": [
    {
     "data": {
      "text/plain": [
       "<matplotlib.image.AxesImage at 0x7f1ebbcc75c0>"
      ]
     },
     "execution_count": 100,
     "metadata": {},
     "output_type": "execute_result"
    },
    {
     "data": {
      "image/png": "[encoded data removed]",
      "text/plain": [
       "<Figure size 432x288 with 1 Axes>"
      ]
     },
     "metadata": {
      "needs_background": "light"
     },
     "output_type": "display_data"
    }
   ],
   "source": [
    "plt.imshow(image, interpolation='nearest')"
   ]
  },
  {
   "cell_type": "markdown",
   "metadata": {},
   "source": [
    "### Second rule: \n",
    "Cell j becomes (or stays) black if either or both of its neighbors j − 1 and j + 1 are black; otherwise it stays (or becomes) white."
   ]
  },
  {
   "cell_type": "code",
   "execution_count": 101,
   "metadata": {},
   "outputs": [
    {
     "data": {
      "text/plain": [
       "<matplotlib.image.AxesImage at 0x7f1ebbb10cf8>"
      ]
     },
     "execution_count": 101,
     "metadata": {},
     "output_type": "execute_result"
    },
    {
     "data": {
      "image/png": "[encoded data removed]",
      "text/plain": [
       "<Figure size 432x288 with 1 Axes>"
      ]
     },
     "metadata": {
      "needs_background": "light"
     },
     "output_type": "display_data"
    }
   ],
   "source": [
    "##Define some variables to model the cellular automata:\n",
    "N = 129 #number of cells\n",
    "n_iter = 64 #number of iterations\n",
    "#Create a numpy array\n",
    "image = np.zeros([n_iter, N], dtype ='int')\n",
    "#Stablish the initial cell as 1\n",
    "image[0,N//2]=1 #Central cell set to 1\n",
    "\n",
    "for iterate in range(1,n_iter):\n",
    "    for j in range(1,N-1):\n",
    "        if image[iterate-1,j+1] == 1 or image[iterate-1,j-1] ==1:\n",
    "            image[iterate, j] = 1\n",
    "    #end of loop\n",
    "    image[iterate,0] = image[iterate, N-2] \n",
    "    image[iterate,N-1] = image[iterate, 1] \n",
    "plt.imshow(image, interpolation='nearest')"
   ]
  },
  {
   "cell_type": "markdown",
   "metadata": {},
   "source": [
    "### Fourth rule: \n",
    "Cell j becomes (or stays) black if one and only one of the triad [ j − 1, j, j + 1] is black, or if only j and j + 1 are black; otherwise it stays (or becomes)\n",
    "white."
   ]
  },
  {
   "cell_type": "code",
   "execution_count": 102,
   "metadata": {},
   "outputs": [
    {
     "data": {
      "text/plain": [
       "<matplotlib.image.AxesImage at 0x7f1ebbbe32e8>"
      ]
     },
     "execution_count": 102,
     "metadata": {},
     "output_type": "execute_result"
    },
    {
     "data": {
      "image/png": "[encoded data removed]",
      "text/plain": [
       "<Figure size 432x288 with 1 Axes>"
      ]
     },
     "metadata": {
      "needs_background": "light"
     },
     "output_type": "display_data"
    }
   ],
   "source": [
    "##Define some variables to model the cellular automata:\n",
    "N = 129 #number of cells\n",
    "n_iter = 80 #number of iterations\n",
    "#Create a numpy array\n",
    "image = np.zeros([n_iter, N], dtype ='int')\n",
    "#Stablish the initial cell as 1\n",
    "image[0,N//2]=1 #Central cell set to 1\n",
    "\n",
    "for iterate in range(1,n_iter):\n",
    "    for j in range(1,N-1):\n",
    "        if image[iterate-1,j-1] + image[iterate-1,j] + image[iterate-1,j+1] == 1 or \\\n",
    "         (image[iterate-1,j] + image[iterate-1,j+1] == 2 and image[iterate-1,j-1]==0) :\n",
    "            image[iterate, j] = 1\n",
    "            \n",
    "    #end of loop\n",
    "    image[iterate,0] = image[iterate, N-2] \n",
    "    image[iterate,N-1] = image[iterate, 1] \n",
    "plt.imshow(image, interpolation='nearest')"
   ]
  },
  {
   "cell_type": "markdown",
   "metadata": {},
   "source": [
    "Prove the rules assinging randomly the initial conditions to cells."
   ]
  },
  {
   "cell_type": "code",
   "execution_count": 103,
   "metadata": {},
   "outputs": [
    {
     "data": {
      "text/plain": [
       "<matplotlib.image.AxesImage at 0x7f1ebb6ac278>"
      ]
     },
     "execution_count": 103,
     "metadata": {},
     "output_type": "execute_result"
    },
    {
     "data": {
      "image/png": "[encoded data removed]",
      "text/plain": [
       "<Figure size 432x288 with 1 Axes>"
      ]
     },
     "metadata": {
      "needs_background": "light"
     },
     "output_type": "display_data"
    }
   ],
   "source": [
    "##Define some variables to model the cellular automata:\n",
    "N = 129 #number of cells\n",
    "n_iter = 80 #number of iterations\n",
    "#Create a numpy array\n",
    "image = np.zeros([n_iter, N], dtype ='int')\n",
    "#Stablish the initial cells randomly\n",
    "for i in range(1,N):\n",
    "    x = np.random.uniform(0,1)\n",
    "    if x > 0.5:\n",
    "        image[0, i] = 1\n",
    "    else:\n",
    "        image[0, i] = 0\n",
    "#        \n",
    "for iterate in range(1,n_iter):\n",
    "    for j in range(1,N-1):\n",
    "        if image[iterate-1,j+1] + image[iterate-1,j-1] ==1:\n",
    "            image[iterate, j] = 1\n",
    "    #end of loop\n",
    "    image[iterate,0] = image[iterate, N-2] \n",
    "    image[iterate,N-1] = image[iterate, 1] \n",
    "plt.imshow(image, interpolation='nearest')"
   ]
  },
  {
   "cell_type": "code",
   "execution_count": 104,
   "metadata": {},
   "outputs": [
    {
     "data": {
      "text/plain": [
       "<matplotlib.image.AxesImage at 0x7f1ebb618128>"
      ]
     },
     "execution_count": 104,
     "metadata": {},
     "output_type": "execute_result"
    },
    {
     "data": {
      "image/png": "[encoded data removed]",
      "text/plain": [
       "<Figure size 432x288 with 1 Axes>"
      ]
     },
     "metadata": {
      "needs_background": "light"
     },
     "output_type": "display_data"
    }
   ],
   "source": [
    "##Define some variables to model the cellular automata:\n",
    "N = 129 #number of cells\n",
    "n_iter = 80 #number of iterations\n",
    "#Create a numpy array\n",
    "image = np.zeros([n_iter, N], dtype ='int')\n",
    "#Stablish the initial cells randomly\n",
    "for i in range(1,N):\n",
    "    x = np.random.uniform(0,1)\n",
    "    if x > 0.5:\n",
    "        image[0, i] = 1\n",
    "    else:\n",
    "        image[0, i] = 0\n",
    "        \n",
    "for iterate in range(1,n_iter):\n",
    "    for j in range(1,N-1):\n",
    "        if image[iterate-1,j+1] == 1 or image[iterate-1,j-1] ==1 or image[iterate-1,j] ==1:\n",
    "            image[iterate, j] = 1\n",
    "    #end of loop\n",
    "    image[iterate,0] = image[iterate, N-2] \n",
    "    image[iterate,N-1] = image[iterate, 1] \n",
    "plt.imshow(image, interpolation='nearest')        "
   ]
  },
  {
   "cell_type": "markdown",
   "metadata": {},
   "source": [
    "Further rules to perform:\n",
    "1. Cell j becomes (or stays) black only if both j − 1 and j are white; otherwise the cell stays (or becomes) white.\n",
    "\n",
    "2. Cell j becomes (or stays) black if any two cells of the triad [ j − 1, j, j + 1] are black, or if both j − 1 and j are white; otherwise the cell stays (or becomes) white.\n",
    "3. Cell j becomes (or stays) white if j − 1 and j are both black, or if the triad [ j − 1, j, j + 1] are all white; otherwise the cell stays (or becomes) black.\n",
    "4. Cell j becomes (or stays) black if cell j − 1 and at least one of the pair [ j, j + 1] are black, or if the triad [ j − 1, j, j + 1] are all white; otherwise the cell stays (or becomes) white.\n",
    "5. Cell j becomes (or stays) white if j + 1 and j are both white, or if the triad [ j − 1, j, j + 1] are all black; otherwise the cell stays (or becomes) black."
   ]
  },
  {
   "cell_type": "code",
   "execution_count": 105,
   "metadata": {},
   "outputs": [
    {
     "data": {
      "text/plain": [
       "<matplotlib.image.AxesImage at 0x7f1ebb5fb518>"
      ]
     },
     "execution_count": 105,
     "metadata": {},
     "output_type": "execute_result"
    },
    {
     "data": {
      "image/png": "[encoded data removed]",
      "text/plain": [
       "<Figure size 432x288 with 1 Axes>"
      ]
     },
     "metadata": {
      "needs_background": "light"
     },
     "output_type": "display_data"
    }
   ],
   "source": [
    "#1.Cell j becomes (or stays) black only if both j − 1 and j are white; \n",
    "#otherwise the cell stays (or becomes) white.\n",
    "##Define some variables to model the cellular automata:\n",
    "N = 129 #number of cells\n",
    "n_iter = 80 #number of iterations\n",
    "#Create a numpy array\n",
    "image = np.zeros([n_iter, N], dtype ='int')\n",
    "#Stablish the initial cell as 1\n",
    "image[0,N//2]=1 #Central cell set to 1\n",
    "\n",
    "for iterate in range(1,n_iter):\n",
    "    for j in range(1,N-1):\n",
    "        if image[iterate-1,j-1] + image[iterate-1,j+1] == 2 :\n",
    "            image[iterate, j] = 1            \n",
    "    #end of loop\n",
    "    image[iterate,0] = image[iterate, N-2] \n",
    "    image[iterate,N-1] = image[iterate, 1] \n",
    "plt.imshow(image, interpolation='nearest')"
   ]
  },
  {
   "cell_type": "code",
   "execution_count": 106,
   "metadata": {},
   "outputs": [
    {
     "data": {
      "text/plain": [
       "<matplotlib.image.AxesImage at 0x7f1ebb5647f0>"
      ]
     },
     "execution_count": 106,
     "metadata": {},
     "output_type": "execute_result"
    },
    {
     "data": {
      "image/png": "[encoded data removed]",
      "text/plain": [
       "<Figure size 432x288 with 1 Axes>"
      ]
     },
     "metadata": {
      "needs_background": "light"
     },
     "output_type": "display_data"
    }
   ],
   "source": [
    "#2.Cell j becomes (or stays) black if any two cells of the triad [ j − 1, j, j + 1] are black,\n",
    "#or if both j − 1 and j are white; otherwise the cell stays (or becomes) white.\n",
    "N = 129 #number of cells\n",
    "n_iter = 80 #number of iterations\n",
    "#Create a numpy array\n",
    "image = np.zeros([n_iter, N], dtype ='int')\n",
    "#Stablish the initial cell as 1\n",
    "image[0,N//2]=1 #Central cell set to 1\n",
    "\n",
    "for iterate in range(1,n_iter):\n",
    "    for j in range(1,N-1):\n",
    "        if image[iterate-1,j+1] + image[iterate-1,j-1] + image[iterate-1,j] == 2 or \\\n",
    "        image[iterate-1,j-1] + image[iterate-1,j] == 0:\n",
    "            image[iterate, j] = 1\n",
    "    #end of loop\n",
    "    image[iterate,0] = image[iterate, N-2] \n",
    "    image[iterate,N-1] = image[iterate, 1] \n",
    "plt.imshow(image, interpolation='nearest')        "
   ]
  },
  {
   "cell_type": "code",
   "execution_count": 107,
   "metadata": {},
   "outputs": [
    {
     "data": {
      "text/plain": [
       "<matplotlib.image.AxesImage at 0x7f1ebb4cf400>"
      ]
     },
     "execution_count": 107,
     "metadata": {},
     "output_type": "execute_result"
    },
    {
     "data": {
      "image/png": "[encoded data removed]",
      "text/plain": [
       "<Figure size 432x288 with 1 Axes>"
      ]
     },
     "metadata": {
      "needs_background": "light"
     },
     "output_type": "display_data"
    }
   ],
   "source": [
    "#3.Cell j becomes (or stays) white if j − 1 and j are both black, \n",
    "# or if the triad [ j − 1, j, j + 1] are all white; otherwise the cell stays (or becomes) black.\n",
    "N = 129 #number of cells\n",
    "n_iter = 80 #number of iterations\n",
    "#Create a numpy array\n",
    "image = np.zeros([n_iter, N], dtype ='int')\n",
    "#Stablish the initial cell as 1\n",
    "image[0,N//2]=1 #Central cell set to 1\n",
    "\n",
    "for iterate in range(1,n_iter):\n",
    "    for j in range(1,N-1):\n",
    "        if image[iterate-1,j+1] + image[iterate-1,j-1] + image[iterate-1,j] == 0 or \\\n",
    "        image[iterate-1,j-1] + image[iterate-1,j] == 2:\n",
    "            image[iterate, j] = 1\n",
    "    #end of loop\n",
    "    image[iterate,0] = image[iterate, N-2] \n",
    "    image[iterate,N-1] = image[iterate, 1] \n",
    "plt.imshow(image, interpolation='nearest')        "
   ]
  },
  {
   "cell_type": "code",
   "execution_count": 118,
   "metadata": {},
   "outputs": [
    {
     "data": {
      "text/plain": [
       "<matplotlib.image.AxesImage at 0x7f1ebb0dc2b0>"
      ]
     },
     "execution_count": 118,
     "metadata": {},
     "output_type": "execute_result"
    },
    {
     "data": {
      "image/png": "[encoded data removed]",
      "text/plain": [
       "<Figure size 432x288 with 1 Axes>"
      ]
     },
     "metadata": {
      "needs_background": "light"
     },
     "output_type": "display_data"
    }
   ],
   "source": [
    "# 4.Cell j becomes (or stays) black if cell j − 1 and at least one of the pair \n",
    "# [ j, j + 1] are black, or if the triad [ j − 1, j, j + 1] are all white; \n",
    "# otherwise the cell stays (or becomes) white.\n",
    "N = 129 #number of cells\n",
    "n_iter = 80 #number of iterations\n",
    "#Create a numpy array\n",
    "image = np.zeros([n_iter, N], dtype ='int')\n",
    "#Stablish the initial cell as 1\n",
    "image[0,N//2]=1 #Central cell set to 1\n",
    "\n",
    "for iterate in range(1,n_iter):\n",
    "    for j in range(1,N-1):\n",
    "        if image[iterate-1,j] == 1 or image[iterate-1,j+1] == 1 and image[iterate-1,j-1] == 1 or \\\n",
    "        image[iterate-1,j-1] + image[iterate-1,j] + image[iterate-1,j+1]== 0:\n",
    "            image[iterate, j] = 1\n",
    "        else:\n",
    "            image[iterate, j] = 0\n",
    "    #end of loop\n",
    "    image[iterate,0] = image[iterate, N-2] \n",
    "    image[iterate,N-1] = image[iterate, 1] \n",
    "plt.imshow(image, interpolation='nearest')        \n"
   ]
  },
  {
   "cell_type": "code",
   "execution_count": 116,
   "metadata": {},
   "outputs": [
    {
     "data": {
      "text/plain": [
       "<matplotlib.image.AxesImage at 0x7f1ebb190358>"
      ]
     },
     "execution_count": 116,
     "metadata": {},
     "output_type": "execute_result"
    },
    {
     "data": {
      "image/png": "[encoded data removed]",
      "text/plain": [
       "<Figure size 432x288 with 1 Axes>"
      ]
     },
     "metadata": {
      "needs_background": "light"
     },
     "output_type": "display_data"
    }
   ],
   "source": [
    "# 5. Cell j becomes (or stays) white if j + 1 and j are both white, or if the triad [ j − 1, j, j + 1] \n",
    "# are all black; otherwise the cell stays (or becomes) black.\n",
    "N = 129 #number of cells\n",
    "n_iter = 350 #number of iterations\n",
    "#Create a numpy array\n",
    "image = np.zeros([n_iter, N], dtype ='int')\n",
    "#Stablish the initial cell as 1\n",
    "image[0,N//2]=1 #Central cell set to 1\n",
    "\n",
    "for iterate in range(1,n_iter):\n",
    "    for j in range(1,N-1):\n",
    "        if image[iterate-1,j] + image[iterate-1,j+1] == 0 or \\\n",
    "        image[iterate-1,j-1] + image[iterate-1,j] + image[iterate-1,j+1]== 3:\n",
    "            image[iterate, j] = 0\n",
    "        else:\n",
    "            image[iterate, j] = 1\n",
    "    #end of loop\n",
    "    image[iterate,0] = image[iterate, N-2] \n",
    "    image[iterate,N-1] = image[iterate, 1] \n",
    "plt.imshow(image, interpolation='nearest')        \n"
   ]
  },
  {
   "cell_type": "code",
   "execution_count": null,
   "metadata": {},
   "outputs": [],
   "source": [
    "#Explicar que tipo de comporatamiento tiene cada una de las reglas.\n",
    "##Define some variables to model the cellular automata:\n",
    "#def automata_simulation(N,n_iter):\n",
    "    \"\"\"The function defines the dimensions of a cellular \n",
    "    automata. N is for the number of cells required for the 2-D \n",
    "    cellular automata while n_iter refers to the number of \n",
    "    iterations that the automata is going to be iterated.\"\"\"\n",
    "    #Create a numpy array\n",
    "    #image = np.zeros([n_iter, N], dtype ='int')\n",
    "    #Stablish the initial cell as 1\n",
    "    #image[0,N//2]=1 #Central cell set to 1\n"
   ]
  }
 ],
 "metadata": {
  "kernelspec": {
   "display_name": "Python 3",
   "language": "python",
   "name": "python3"
  },
  "language_info": {
   "codemirror_mode": {
    "name": "ipython",
    "version": 3
   },
   "file_extension": ".py",
   "mimetype": "text/x-python",
   "name": "python",
   "nbconvert_exporter": "python",
   "pygments_lexer": "ipython3",
   "version": "3.6.9"
  }
 },
 "nbformat": 4,
 "nbformat_minor": 4
}
